{
 "cells": [
  {
   "cell_type": "markdown",
   "metadata": {},
   "source": [
    "# Task_3.2\n",
    "\n",
    "### Overview\n",
    "\n",
    "#### In this task, i first used simple machine learning algortihm (Linear Regression) to predict the value of \"Adj_close\" using the famous Sci-kit-learn package \n",
    "\n",
    "### Preparing our data\n",
    "\n",
    "#### I added some features to the dataset in which i believe they might help since i spent some time visualizing some column and relation between column seasonly, monthly ant etc. So, after literature review, i added a column called \"avg_prices\" which is the average price for each date (derived from (High + Low)/2). Also, i added \"shifted_day_close\" column which is the shifted values of Adj_close by -1 (since we would like to predict for a duration of day). i tried to add columns \"avg_close_weekly\", \"avg_close_monthy\" and also foe each quarter (mean and std for each one) but i found it did not perform good at all so i removed it  \n",
    "\n",
    "#### I then normalized the new dataframe using MinMaxScaler() in scikit learn to a range(0,1) for all features and then i wrote a function for splitting data so i can use it for the SGDRegressor() class of scikit learn "
   ]
  }
 ],
 "metadata": {
  "kernelspec": {
   "display_name": "Python 2",
   "language": "python",
   "name": "python2"
  },
  "language_info": {
   "codemirror_mode": {
    "name": "ipython",
    "version": 2
   },
   "file_extension": ".py",
   "mimetype": "text/x-python",
   "name": "python",
   "nbconvert_exporter": "python",
   "pygments_lexer": "ipython2",
   "version": "2.7.13"
  }
 },
 "nbformat": 4,
 "nbformat_minor": 2
}
