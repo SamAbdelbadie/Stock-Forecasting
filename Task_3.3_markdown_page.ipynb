{
 "cells": [
  {
   "cell_type": "markdown",
   "metadata": {},
   "source": [
    "# Task_3.2\n",
    "\n",
    "### Overview\n",
    "\n",
    "#### In this task, i used LSTM to predict the value of \"Adj_close\" using Pytorch framework \n",
    "\n",
    "### Preparing our data\n",
    "\n",
    "#### I used the same normalized data in the previous task, howerver i did not split them.\n",
    "\n",
    "### LSTM architecture\n",
    "\n",
    "#### LSTM(\n",
    "####   (rnn): LSTM(1, 128, num_layers=4, dropout=0.2)\n",
    "####   (fc1): Linear(in_features=128, out_features=128, bias=True)\n",
    "####   (fc2): Linear(in_features=128, out_features=10, bias=True)\n",
    "####   (fc3): Linear(in_features=10, out_features=1, bias=True)\n",
    "####   (relu): ReLU()\n",
    "#### )\n",
    "#### \n",
    "\n",
    "### Parameters\n",
    "#### learning rate=0.001\n",
    "#### num_epochs=150\n",
    "#### dropuout=0.2\n",
    "#### train_batch_size=16\n",
    "#### test_batch_size=4\n",
    "#### num of hidden units =128\n",
    "#### num of layers=4\n",
    "#### loss criterion is Mean Square Error\n",
    "#### weight_decay=0.001\n"
   ]
  }
 ],
 "metadata": {
  "kernelspec": {
   "display_name": "Python 2",
   "language": "python",
   "name": "python2"
  },
  "language_info": {
   "codemirror_mode": {
    "name": "ipython",
    "version": 2
   },
   "file_extension": ".py",
   "mimetype": "text/x-python",
   "name": "python",
   "nbconvert_exporter": "python",
   "pygments_lexer": "ipython2",
   "version": "2.7.13"
  }
 },
 "nbformat": 4,
 "nbformat_minor": 2
}
